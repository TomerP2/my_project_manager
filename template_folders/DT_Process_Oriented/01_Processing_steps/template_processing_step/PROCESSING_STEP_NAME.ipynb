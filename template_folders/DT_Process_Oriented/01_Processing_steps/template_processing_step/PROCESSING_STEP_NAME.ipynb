{
 "cells": [
  {
   "cell_type": "markdown",
   "metadata": {},
   "source": [
    "# PROCESSING_STEP_NAME\n",
    "*Author*: Tomer Peled (Tomer.peled@WUR.nl) \n",
    "\n",
    "*Date*: CURRENT_DATE\n",
    "\n",
    "**User Story**\n",
    "\n",
    "**Description**\n",
    "\n",
    "**Inputs**\n",
    "\n",
    "**Outputs**\n",
    "\n",
    "**Process**\n"
   ]
  },
  {
   "cell_type": "markdown",
   "metadata": {},
   "source": [
    "## Imports"
   ]
  },
  {
   "cell_type": "code",
   "execution_count": null,
   "metadata": {},
   "outputs": [],
   "source": [
    "import os"
   ]
  },
  {
   "cell_type": "markdown",
   "metadata": {},
   "source": [
    "# Parameters"
   ]
  },
  {
   "cell_type": "markdown",
   "metadata": {},
   "source": [
    "**Get path to project dir**"
   ]
  },
  {
   "cell_type": "code",
   "execution_count": null,
   "metadata": {},
   "outputs": [],
   "source": [
    "# If in arcgis pro project, get project path:\n",
    "try:\n",
    "    import arcpy\n",
    "    arcgis_proj_path = arcpy.mp.ArcGISProject(\"CURRENT\").filePath\n",
    "    project_path = os.path.dirname(os.path.dirname(os.path.dirname(arcgis_proj_path)))\n",
    "    \n",
    "# If not in arcgis pro project, set working directory based on notebook location:\n",
    "except OSError or ImportError: \n",
    "    import ipynbname \n",
    "    notebook_path = ipynbname.path()\n",
    "    project_path = os.path.dirname(os.path.dirname(os.path.dirname(notebook_path)))\n",
    "\n",
    "# If ipynbname is not installed or other error, set working directory manually\n",
    "except: \n",
    "    print (\"Set project dir manually or install ipynbname!\")\n",
    "    project_path = \"\"  # Change this to your project path\n",
    "    \n",
    "if not project_path: raise Exception(\"Project path is not set. Please set it manually in the code.\")\n",
    "project_path"
   ]
  },
  {
   "cell_type": "markdown",
   "metadata": {},
   "source": [
    "**Set Parameters**"
   ]
  },
  {
   "cell_type": "code",
   "execution_count": null,
   "metadata": {
    "tags": [
     "parameters"
    ]
   },
   "outputs": [],
   "source": [
    "# Required\n",
    "\n",
    "# Optional"
   ]
  },
  {
   "cell_type": "markdown",
   "metadata": {},
   "source": [
    "# Script"
   ]
  },
  {
   "cell_type": "markdown",
   "metadata": {},
   "source": [
    "**Imports + get variables from .env file**"
   ]
  },
  {
   "cell_type": "code",
   "execution_count": null,
   "metadata": {},
   "outputs": [
    {
     "data": {
      "text/plain": [
       "False"
      ]
     },
     "execution_count": 1,
     "metadata": {},
     "output_type": "execute_result"
    }
   ],
   "source": [
    "import os\n",
    "from dotenv import dotenv_values\n",
    "\n",
    "env_vars = dotenv_values(\"../../.env\")"
   ]
  }
 ],
 "metadata": {
  "kernelspec": {
   "display_name": "satteliet_project",
   "language": "python",
   "name": "python3"
  },
  "language_info": {
   "codemirror_mode": {
    "name": "ipython",
    "version": 3
   },
   "file_extension": ".py",
   "mimetype": "text/x-python",
   "name": "python",
   "nbconvert_exporter": "python",
   "pygments_lexer": "ipython3",
   "version": "3.13.0"
  }
 },
 "nbformat": 4,
 "nbformat_minor": 4
}
